{
 "cells": [
  {
   "attachments": {},
   "cell_type": "markdown",
   "metadata": {},
   "source": [
    "# Semantic search using embeddings example\n",
    "\n",
    "Based on: https://github.com/openai/openai-cookbook/blob/main/examples/Semantic_text_search_using_embeddings.ipynb"
   ]
  },
  {
   "cell_type": "code",
   "execution_count": 20,
   "metadata": {},
   "outputs": [],
   "source": [
    "import pandas as pd\n",
    "import numpy as np\n",
    "import csv\n"
   ]
  },
  {
   "cell_type": "code",
   "execution_count": 13,
   "metadata": {},
   "outputs": [
    {
     "name": "stdout",
     "output_type": "stream",
     "text": [
      "/d/rickr/Documents/GitHub/botfaqs/src\n",
      "../tests/test.csv\n"
     ]
    }
   ],
   "source": [
    "!pwd\n",
    "!ls ../tests/test.csv"
   ]
  },
  {
   "cell_type": "code",
   "execution_count": 46,
   "metadata": {},
   "outputs": [
    {
     "data": {
      "text/html": [
       "<div>\n",
       "<style scoped>\n",
       "    .dataframe tbody tr th:only-of-type {\n",
       "        vertical-align: middle;\n",
       "    }\n",
       "\n",
       "    .dataframe tbody tr th {\n",
       "        vertical-align: top;\n",
       "    }\n",
       "\n",
       "    .dataframe thead th {\n",
       "        text-align: right;\n",
       "    }\n",
       "</style>\n",
       "<table border=\"1\" class=\"dataframe\">\n",
       "  <thead>\n",
       "    <tr style=\"text-align: right;\">\n",
       "      <th></th>\n",
       "      <th>0</th>\n",
       "    </tr>\n",
       "  </thead>\n",
       "  <tbody>\n",
       "    <tr>\n",
       "      <th>0</th>\n",
       "      <td>1 \"What is 3D printing?\" \"3D printing is a pro...</td>\n",
       "    </tr>\n",
       "    <tr>\n",
       "      <th>1</th>\n",
       "      <td>2 \"What materials can be used for 3D printing?...</td>\n",
       "    </tr>\n",
       "    <tr>\n",
       "      <th>2</th>\n",
       "      <td>3 \"How does a 3D printer work?\" \"A 3D printer ...</td>\n",
       "    </tr>\n",
       "    <tr>\n",
       "      <th>3</th>\n",
       "      <td>4 \"What are some common applications of 3D pri...</td>\n",
       "    </tr>\n",
       "    <tr>\n",
       "      <th>4</th>\n",
       "      <td>5 \"What are the advantages of 3D printing?\" \"S...</td>\n",
       "    </tr>\n",
       "    <tr>\n",
       "      <th>5</th>\n",
       "      <td>6 \"What are the limitations of 3D printing?\" \"...</td>\n",
       "    </tr>\n",
       "    <tr>\n",
       "      <th>6</th>\n",
       "      <td>7 \"How accurate is 3D printing?\" \"The accuracy...</td>\n",
       "    </tr>\n",
       "    <tr>\n",
       "      <th>7</th>\n",
       "      <td>8 \"Is 3D printing environmentally friendly?\" \"...</td>\n",
       "    </tr>\n",
       "    <tr>\n",
       "      <th>8</th>\n",
       "      <td>9 \"Is 3D printing safe?\" \"3D printing is gener...</td>\n",
       "    </tr>\n",
       "    <tr>\n",
       "      <th>9</th>\n",
       "      <td>10 \"What is the future of 3D printing?\" \"The f...</td>\n",
       "    </tr>\n",
       "  </tbody>\n",
       "</table>\n",
       "</div>"
      ],
      "text/plain": [
       "                                                   0\n",
       "0  1 \"What is 3D printing?\" \"3D printing is a pro...\n",
       "1  2 \"What materials can be used for 3D printing?...\n",
       "2  3 \"How does a 3D printer work?\" \"A 3D printer ...\n",
       "3  4 \"What are some common applications of 3D pri...\n",
       "4  5 \"What are the advantages of 3D printing?\" \"S...\n",
       "5  6 \"What are the limitations of 3D printing?\" \"...\n",
       "6  7 \"How accurate is 3D printing?\" \"The accuracy...\n",
       "7  8 \"Is 3D printing environmentally friendly?\" \"...\n",
       "8  9 \"Is 3D printing safe?\" \"3D printing is gener...\n",
       "9  10 \"What is the future of 3D printing?\" \"The f..."
      ]
     },
     "execution_count": 46,
     "metadata": {},
     "output_type": "execute_result"
    }
   ],
   "source": [
    "\n",
    "df = pd.read_csv('../tests/data.csv', header=None,  delimiter='\\t')\n",
    "#df = pd.read_csv('../tests/data.csv', header=None, delimiter=',', quotechar='\"', keep_default_na=False)\n",
    "#df = pd.read_csv('../tests/data.csv', header=None, delimiter=',', quotechar='\"', keep_default_na=False)\n",
    "df.head(10)\n"
   ]
  },
  {
   "cell_type": "code",
   "execution_count": 29,
   "metadata": {},
   "outputs": [
    {
     "name": "stdout",
     "output_type": "stream",
     "text": [
      "['1', ' \"What is 3D printing?\"', ' \"3D printing is a process of creating a physical object from a digital design by building it up layer by layer using a 3D printer.\"']\n",
      "['2', ' \"What materials can be used for 3D printing?\"', ' \"There are a variety of materials that can be used for 3D printing', ' including plastics', ' metals', ' and ceramics.\"']\n",
      "['3', ' \"How does a 3D printer work?\"', ' \"A 3D printer works by taking a digital design and creating a physical object by laying down successive layers of material. The printer reads the design and extrudes a thin layer of material', ' which is then bonded to the layer below it. The process is repeated until the object is complete.\"']\n",
      "['4', ' \"What are some common applications of 3D printing?\"', ' \"Some common applications of 3D printing include prototyping', ' manufacturing', ' and creating custom parts or products.\"']\n",
      "['5', ' \"What are the advantages of 3D printing?\"', ' \"Some advantages of 3D printing include reduced production costs', ' faster turnaround times', ' and the ability to create complex', ' customized designs.\"']\n",
      "['6', ' \"What are the limitations of 3D printing?\"', ' \"Some limitations of 3D printing include the cost of the printer and materials', ' the time required to print an object', ' and the limited range of materials that can be used.\"']\n",
      "['7', ' \"How accurate is 3D printing?\"', ' \"The accuracy of 3D printing depends on the quality of the printer and the resolution of the design. In general', ' 3D printing can achieve a high level of accuracy', ' but it may not be suitable for applications that require extremely precise tolerances.\"']\n",
      "['8', ' \"Is 3D printing environmentally friendly?\"', ' \"3D printing can have both positive and negative impacts on the environment. On the one hand', ' it can reduce waste and energy use by allowing manufacturers to produce only the parts they need', ' rather than producing large quantities of parts that may not be used. On the other hand', ' the production of 3D printing materials and the operation of 3D printers can have an environmental impact.\"']\n",
      "['9', ' \"Is 3D printing safe?\"', ' \"3D printing is generally considered safe', ' but there are potential risks to consider. Some 3D printing materials', ' such as certain types of plastics', ' can release potentially harmful fumes when they are printed. In addition', ' small objects printed on a 3D printer may present a choking hazard for young children.\"']\n",
      "['10', ' \"What is the future of 3D printing?\"', ' \"The future of 3D printing is hard to predict', ' but it is likely that the technology will continue to evolve and become more widely adopted in a variety of industries. Some experts predict that 3D printing will eventually become a mainstream manufacturing technology', ' while others believe it will remain a niche technology with specialized applications.\"']\n",
      "[]\n",
      "[]\n"
     ]
    }
   ],
   "source": [
    "# Open the CSV file in read mode\n",
    "with open('../tests/data.csv', 'r') as file:\n",
    "    # Create a CSV reader object\n",
    "    reader = csv.reader(file)\n",
    "    \n",
    "    # Iterate over the rows in the CSV\n",
    "    for row in reader:\n",
    "        # Print each row\n",
    "        print(row)"
   ]
  },
  {
   "cell_type": "code",
   "execution_count": null,
   "metadata": {},
   "outputs": [],
   "source": [
    "df[\"ada_search\"] = df.ada_search.apply(eval).apply(np.array)"
   ]
  }
 ],
 "metadata": {
  "kernelspec": {
   "display_name": "botfaqs-njQ_WFfu-py3.10",
   "language": "python",
   "name": "python3"
  },
  "language_info": {
   "codemirror_mode": {
    "name": "ipython",
    "version": 3
   },
   "file_extension": ".py",
   "mimetype": "text/x-python",
   "name": "python",
   "nbconvert_exporter": "python",
   "pygments_lexer": "ipython3",
   "version": "3.10.8"
  },
  "orig_nbformat": 4,
  "vscode": {
   "interpreter": {
    "hash": "be85a8ca9a6ab4deac43f34ad7d55e2814f4d15852378870578a9d9fca99a351"
   }
  }
 },
 "nbformat": 4,
 "nbformat_minor": 2
}
